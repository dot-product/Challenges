{
 "cells": [
  {
   "cell_type": "markdown",
   "metadata": {},
   "source": [
    "### Analysis\n",
    "\n",
    "   - The target column has two different labels(0/1) so it is a binary classification problem.\n",
    "   - Distribution of target varible values is very skewed. It can be visualized using histogram.\n",
    "   - The training set is very **imbalanced** , 0  being major class and 1 being minor class.\n",
    "   - Since training data is imbalanced **Accuracy can not be** good evaluation metric. \n",
    "   - This line **output = 0 will give almost 96% accuracy.**\n",
    "\n",
    "\n",
    "#### Metric\n",
    "   \n",
    "   -  Since $F_1$ score is hormonic mean of precision and recall it will be better evaluation metric.\n",
    "   \n",
    "   -  $F_1 = \\frac{2*precesion*recall}{(precesion+recall)}$\n",
    "   \n",
    "### Modeling Imbalanced Data\n",
    "\n",
    "   -  Since number of minor class samples are very less, it is very difficult for models to detect.\n",
    "   -  Solutions for this  can be collecting more minority class samples or balancing the two classes using following         methods\n",
    "       * Under sampling major class\n",
    "           - This might cause information loss.\n",
    "       * over sampling minor class\n",
    "           - This might cause models to overfit to same minor class samples.\n",
    "   - These two techniques form a tradoff\n",
    "   - This solution used combination of under sampling and a method that generates new minor class points from existence samples.\n",
    "   \n",
    "### Feature Engineering\n",
    "\n",
    "   - Even though there is no good statistical evidence that shows relation between derived fields and num columns\n",
    "    in this solution i assumed it removed them from training data.\n",
    "   - This can be experimented more once the relation between there columns is determined.\n",
    "    \n",
    "### Model selection \n",
    "\n",
    "   - Started with Logistic regression, Decision Trees both could not give satisfactory results when tested with cross validation\n",
    "   - Experimented with ensemble methods, especially RandomForest which performed well on boht cross validation as well as on validation set.\n",
    "    \n",
    "### Results \n",
    "\n",
    "   - confusion matrics \n",
    "                [9697  303]\n",
    "                [852  9148]\n",
    "   - **Precision** 96%\n",
    "   - **recall** 91%\n",
    "   - **f1_score** 0.94\n",
    "   - **acuuracy** 94%\n",
    "    "
   ]
  },
  {
   "cell_type": "code",
   "execution_count": 1,
   "metadata": {},
   "outputs": [],
   "source": [
    "import pandas as pd\n"
   ]
  },
  {
   "cell_type": "code",
   "execution_count": 2,
   "metadata": {},
   "outputs": [],
   "source": [
    "def read_data(loc):\n",
    "    \n",
    "    data = pd.read_csv(loc)\n",
    "    return data\n",
    "    \n",
    "    "
   ]
  },
  {
   "cell_type": "code",
   "execution_count": 3,
   "metadata": {},
   "outputs": [],
   "source": [
    "# Delete all columns with name num* and id.\n",
    "\n",
    "def clean_data(data):\n",
    "    \n",
    "\n",
    "    delete_cols = [c for c in raw_data.columns if 'num' in c ]\n",
    "    delete_cols += ['id']\n",
    "    data = data.drop(columns = delete_cols)\n",
    "    return data"
   ]
  },
  {
   "cell_type": "code",
   "execution_count": 4,
   "metadata": {},
   "outputs": [],
   "source": [
    "# This function stores the correlation matrix corr.csv file\n",
    "def get_coor(data,file_name = 'corr.csv'):\n",
    "    \n",
    "    corr = data.corr()\n",
    "    corr.to_csv(file_name)"
   ]
  },
  {
   "cell_type": "code",
   "execution_count": 5,
   "metadata": {},
   "outputs": [],
   "source": [
    "\n",
    "train_file = 'data_train.csv'\n",
    "raw_data = read_data(train_file)"
   ]
  },
  {
   "cell_type": "code",
   "execution_count": 6,
   "metadata": {},
   "outputs": [],
   "source": [
    "# properties of data\n",
    "\n",
    "# row, col = data.shape\n",
    "# get_coor(raw_data)\n",
    "# description = data.describe()\n",
    "# description.to_csv('description.csv')\n",
    "# train = data.sample(n=int(row*0.3))\n",
    "train_data = clean_data(raw_data)\n",
    "label = train_data.target\n"
   ]
  },
  {
   "cell_type": "code",
   "execution_count": 7,
   "metadata": {},
   "outputs": [
    {
     "data": {
      "text/plain": [
       "<matplotlib.axes._subplots.AxesSubplot at 0x115fd3590>"
      ]
     },
     "execution_count": 7,
     "metadata": {},
     "output_type": "execute_result"
    },
    {
     "data": {
      "image/png": "[encoded data removed]",
      "text/plain": [
       "<Figure size 432x288 with 1 Axes>"
      ]
     },
     "metadata": {},
     "output_type": "display_data"
    }
   ],
   "source": [
    "%matplotlib inline\n",
    "\n",
    "label.hist()"
   ]
  },
  {
   "cell_type": "code",
   "execution_count": 8,
   "metadata": {},
   "outputs": [],
   "source": [
    "train_data = train_data.drop(columns=['target'])"
   ]
  },
  {
   "cell_type": "code",
   "execution_count": 9,
   "metadata": {},
   "outputs": [],
   "source": [
    "# Filling all columns that have missing values.\n",
    "\n",
    "def fill_na_mode(data):\n",
    "    \n",
    "    cols = data.isna().any()\n",
    "    na_col = [col for col in cols.keys() if cols[col] == True]\n",
    "    na_val= {\n",
    "    \n",
    "    col : data[col].mode()[0]\n",
    "    for col in na_col\n",
    "    }\n",
    "    \n",
    "    print na_val\n",
    "    data = data.fillna(na_val)\n",
    "    \n",
    "    return data,na_val\n",
    "    "
   ]
  },
  {
   "cell_type": "code",
   "execution_count": 10,
   "metadata": {},
   "outputs": [
    {
     "name": "stdout",
     "output_type": "stream",
     "text": [
      "{'cat12': 2.0, 'cat10': 1.0, 'cat1': 1.0, 'cat2': 0.0, 'cat3': 0.0, 'cat4': 11.0, 'cat5': 1.0, 'cat6': 1.0, 'cat8': 1.0}\n"
     ]
    }
   ],
   "source": [
    "train_data,na_val = fill_na_mode(train_data)"
   ]
  },
  {
   "cell_type": "code",
   "execution_count": 11,
   "metadata": {},
   "outputs": [],
   "source": [
    "# Undersampling followed by SMOTE to reduce majority class effect and increase the minority class samples.\n",
    "\n",
    "from imblearn.over_sampling import SMOTE\n",
    "from imblearn.under_sampling import RandomUnderSampler\n",
    "# from imblearn.combine import  SMOTEENN\n",
    "train_data, label = RandomUnderSampler(ratio={0:250000,1:21716}).fit_resample(train_data,label)\n",
    "\n",
    "train_data, label= SMOTE().fit_resample(train_data, label)\n",
    "# train_data, label= SMOTEENN().fit_resample(train_data, label)\n",
    "\n",
    "train_data = pd.DataFrame(train_data)\n",
    "label = pd.Series(label)\n"
   ]
  },
  {
   "cell_type": "code",
   "execution_count": 12,
   "metadata": {},
   "outputs": [
    {
     "data": {
      "text/plain": [
       "<matplotlib.axes._subplots.AxesSubplot at 0x11c672350>"
      ]
     },
     "execution_count": 12,
     "metadata": {},
     "output_type": "execute_result"
    },
    {
     "data": {
      "image/png": "[encoded data removed]",
      "text/plain": [
       "<Figure size 432x288 with 1 Axes>"
      ]
     },
     "metadata": {},
     "output_type": "display_data"
    }
   ],
   "source": [
    "pd.Series(label).hist()"
   ]
  },
  {
   "cell_type": "code",
   "execution_count": 13,
   "metadata": {},
   "outputs": [
    {
     "data": {
      "text/html": [
       "<div>\n",
       "<style scoped>\n",
       "    .dataframe tbody tr th:only-of-type {\n",
       "        vertical-align: middle;\n",
       "    }\n",
       "\n",
       "    .dataframe tbody tr th {\n",
       "        vertical-align: top;\n",
       "    }\n",
       "\n",
       "    .dataframe thead th {\n",
       "        text-align: right;\n",
       "    }\n",
       "</style>\n",
       "<table border=\"1\" class=\"dataframe\">\n",
       "  <thead>\n",
       "    <tr style=\"text-align: right;\">\n",
       "      <th></th>\n",
       "      <th>0</th>\n",
       "      <th>1</th>\n",
       "      <th>2</th>\n",
       "      <th>3</th>\n",
       "      <th>4</th>\n",
       "      <th>5</th>\n",
       "      <th>6</th>\n",
       "      <th>7</th>\n",
       "      <th>8</th>\n",
       "      <th>9</th>\n",
       "      <th>...</th>\n",
       "      <th>23</th>\n",
       "      <th>24</th>\n",
       "      <th>25</th>\n",
       "      <th>26</th>\n",
       "      <th>27</th>\n",
       "      <th>28</th>\n",
       "      <th>29</th>\n",
       "      <th>30</th>\n",
       "      <th>31</th>\n",
       "      <th>32</th>\n",
       "    </tr>\n",
       "  </thead>\n",
       "  <tbody>\n",
       "    <tr>\n",
       "      <th>499995</th>\n",
       "      <td>0.540021</td>\n",
       "      <td>0.359979</td>\n",
       "      <td>0.814995</td>\n",
       "      <td>4.700103</td>\n",
       "      <td>1.700103</td>\n",
       "      <td>8.700103</td>\n",
       "      <td>3.700103</td>\n",
       "      <td>8.000000</td>\n",
       "      <td>1.000000</td>\n",
       "      <td>2.700103</td>\n",
       "      <td>...</td>\n",
       "      <td>0.850052</td>\n",
       "      <td>0.850052</td>\n",
       "      <td>0.0</td>\n",
       "      <td>1.000000</td>\n",
       "      <td>0.0</td>\n",
       "      <td>1.0</td>\n",
       "      <td>1.0</td>\n",
       "      <td>1.850052</td>\n",
       "      <td>1.0</td>\n",
       "      <td>22.149948</td>\n",
       "    </tr>\n",
       "    <tr>\n",
       "      <th>499996</th>\n",
       "      <td>0.748915</td>\n",
       "      <td>0.048915</td>\n",
       "      <td>0.777712</td>\n",
       "      <td>2.244576</td>\n",
       "      <td>2.000000</td>\n",
       "      <td>7.244576</td>\n",
       "      <td>2.510848</td>\n",
       "      <td>9.000000</td>\n",
       "      <td>1.755424</td>\n",
       "      <td>6.489152</td>\n",
       "      <td>...</td>\n",
       "      <td>1.000000</td>\n",
       "      <td>0.244576</td>\n",
       "      <td>0.0</td>\n",
       "      <td>0.244576</td>\n",
       "      <td>11.0</td>\n",
       "      <td>1.0</td>\n",
       "      <td>1.0</td>\n",
       "      <td>2.000000</td>\n",
       "      <td>1.0</td>\n",
       "      <td>102.510848</td>\n",
       "    </tr>\n",
       "    <tr>\n",
       "      <th>499997</th>\n",
       "      <td>0.263766</td>\n",
       "      <td>0.263766</td>\n",
       "      <td>0.307727</td>\n",
       "      <td>1.560390</td>\n",
       "      <td>2.560390</td>\n",
       "      <td>9.120780</td>\n",
       "      <td>3.439610</td>\n",
       "      <td>10.560390</td>\n",
       "      <td>1.439610</td>\n",
       "      <td>11.120780</td>\n",
       "      <td>...</td>\n",
       "      <td>1.000000</td>\n",
       "      <td>1.000000</td>\n",
       "      <td>0.0</td>\n",
       "      <td>1.000000</td>\n",
       "      <td>0.0</td>\n",
       "      <td>1.0</td>\n",
       "      <td>1.0</td>\n",
       "      <td>0.879220</td>\n",
       "      <td>1.0</td>\n",
       "      <td>22.000000</td>\n",
       "    </tr>\n",
       "    <tr>\n",
       "      <th>499998</th>\n",
       "      <td>0.518816</td>\n",
       "      <td>0.069803</td>\n",
       "      <td>0.341579</td>\n",
       "      <td>1.603948</td>\n",
       "      <td>2.000000</td>\n",
       "      <td>6.603948</td>\n",
       "      <td>2.000000</td>\n",
       "      <td>8.301974</td>\n",
       "      <td>2.698026</td>\n",
       "      <td>4.698026</td>\n",
       "      <td>...</td>\n",
       "      <td>1.000000</td>\n",
       "      <td>1.000000</td>\n",
       "      <td>0.0</td>\n",
       "      <td>1.000000</td>\n",
       "      <td>11.0</td>\n",
       "      <td>1.0</td>\n",
       "      <td>1.0</td>\n",
       "      <td>2.000000</td>\n",
       "      <td>1.0</td>\n",
       "      <td>99.000000</td>\n",
       "    </tr>\n",
       "    <tr>\n",
       "      <th>499999</th>\n",
       "      <td>0.273935</td>\n",
       "      <td>0.221805</td>\n",
       "      <td>0.510903</td>\n",
       "      <td>2.260649</td>\n",
       "      <td>2.000000</td>\n",
       "      <td>8.260649</td>\n",
       "      <td>2.369676</td>\n",
       "      <td>11.000000</td>\n",
       "      <td>2.000000</td>\n",
       "      <td>10.369676</td>\n",
       "      <td>...</td>\n",
       "      <td>1.000000</td>\n",
       "      <td>1.000000</td>\n",
       "      <td>0.0</td>\n",
       "      <td>1.000000</td>\n",
       "      <td>0.0</td>\n",
       "      <td>1.0</td>\n",
       "      <td>1.0</td>\n",
       "      <td>2.000000</td>\n",
       "      <td>1.0</td>\n",
       "      <td>46.000000</td>\n",
       "    </tr>\n",
       "  </tbody>\n",
       "</table>\n",
       "<p>5 rows × 33 columns</p>\n",
       "</div>"
      ],
      "text/plain": [
       "              0         1         2         3         4         5         6   \\\n",
       "499995  0.540021  0.359979  0.814995  4.700103  1.700103  8.700103  3.700103   \n",
       "499996  0.748915  0.048915  0.777712  2.244576  2.000000  7.244576  2.510848   \n",
       "499997  0.263766  0.263766  0.307727  1.560390  2.560390  9.120780  3.439610   \n",
       "499998  0.518816  0.069803  0.341579  1.603948  2.000000  6.603948  2.000000   \n",
       "499999  0.273935  0.221805  0.510903  2.260649  2.000000  8.260649  2.369676   \n",
       "\n",
       "               7         8          9      ...            23        24   25  \\\n",
       "499995   8.000000  1.000000   2.700103     ...      0.850052  0.850052  0.0   \n",
       "499996   9.000000  1.755424   6.489152     ...      1.000000  0.244576  0.0   \n",
       "499997  10.560390  1.439610  11.120780     ...      1.000000  1.000000  0.0   \n",
       "499998   8.301974  2.698026   4.698026     ...      1.000000  1.000000  0.0   \n",
       "499999  11.000000  2.000000  10.369676     ...      1.000000  1.000000  0.0   \n",
       "\n",
       "              26    27   28   29        30   31          32  \n",
       "499995  1.000000   0.0  1.0  1.0  1.850052  1.0   22.149948  \n",
       "499996  0.244576  11.0  1.0  1.0  2.000000  1.0  102.510848  \n",
       "499997  1.000000   0.0  1.0  1.0  0.879220  1.0   22.000000  \n",
       "499998  1.000000  11.0  1.0  1.0  2.000000  1.0   99.000000  \n",
       "499999  1.000000   0.0  1.0  1.0  2.000000  1.0   46.000000  \n",
       "\n",
       "[5 rows x 33 columns]"
      ]
     },
     "execution_count": 13,
     "metadata": {},
     "output_type": "execute_result"
    }
   ],
   "source": [
    "# train_data.isna().any()\n",
    "# train_data = train_data.drop(columns=['target'])\n",
    "train_data.shape\n",
    "train_data.tail()\n"
   ]
  },
  {
   "cell_type": "code",
   "execution_count": 14,
   "metadata": {},
   "outputs": [
    {
     "name": "stdout",
     "output_type": "stream",
     "text": [
      "Trian shape (400000, 33)\n",
      "Test shape (100000, 33)\n"
     ]
    }
   ],
   "source": [
    "# StratifiedKFold split is used to get train/validation split\n",
    "\n",
    "from sklearn.model_selection import ShuffleSplit,StratifiedKFold\n",
    "\n",
    "s_kfold = StratifiedKFold(n_splits=5,shuffle=True)\n",
    "\n",
    "# s_kfold.split(train_data,label)\n",
    "\n",
    "for train_index, test_index in s_kfold.split(train_data,label):\n",
    "    \n",
    "    X_train, X_val = train_data.iloc[train_index], train_data.iloc[test_index]\n",
    "    Y_train, Y_val = label.iloc[train_index], label.iloc[test_index]\n",
    "    break\n",
    "\n",
    "    \n",
    "print 'Trian shape',X_train.shape\n",
    "print 'Test shape',X_val.shape"
   ]
  },
  {
   "cell_type": "code",
   "execution_count": 15,
   "metadata": {},
   "outputs": [
    {
     "data": {
      "text/plain": [
       "<matplotlib.axes._subplots.AxesSubplot at 0x11c65a590>"
      ]
     },
     "execution_count": 15,
     "metadata": {},
     "output_type": "execute_result"
    },
    {
     "data": {
      "image/png": "[encoded data removed]",
      "text/plain": [
       "<Figure size 432x288 with 1 Axes>"
      ]
     },
     "metadata": {},
     "output_type": "display_data"
    }
   ],
   "source": [
    "Y_val.hist()"
   ]
  },
  {
   "cell_type": "code",
   "execution_count": 16,
   "metadata": {},
   "outputs": [],
   "source": [
    "from  sklearn.linear_model import LogisticRegression\n",
    "from sklearn.tree import DecisionTreeClassifier\n",
    "from sklearn.ensemble import RandomForestClassifier\n",
    "\n",
    "# model = LogisticRegression()\n",
    "# model = DecisionTreeClassifier()\n",
    "model = RandomForestClassifier(n_estimators=3)\n"
   ]
  },
  {
   "cell_type": "code",
   "execution_count": 17,
   "metadata": {},
   "outputs": [
    {
     "data": {
      "text/plain": [
       "RandomForestClassifier(bootstrap=True, class_weight=None, criterion='gini',\n",
       "            max_depth=None, max_features='auto', max_leaf_nodes=None,\n",
       "            min_impurity_decrease=0.0, min_impurity_split=None,\n",
       "            min_samples_leaf=1, min_samples_split=2,\n",
       "            min_weight_fraction_leaf=0.0, n_estimators=3, n_jobs=None,\n",
       "            oob_score=False, random_state=None, verbose=0,\n",
       "            warm_start=False)"
      ]
     },
     "execution_count": 17,
     "metadata": {},
     "output_type": "execute_result"
    }
   ],
   "source": [
    "model.fit(X_train,Y_train)"
   ]
  },
  {
   "cell_type": "code",
   "execution_count": 18,
   "metadata": {},
   "outputs": [],
   "source": [
    "# import sklearn\n",
    "# sklearn.metrics.SCORERS.keys()"
   ]
  },
  {
   "cell_type": "code",
   "execution_count": 19,
   "metadata": {},
   "outputs": [
    {
     "name": "stdout",
     "output_type": "stream",
     "text": [
      "[0.91735413 0.91217939 0.91517924 0.91225439 0.91487926 0.91329783\n",
      " 0.91517288 0.919898   0.91292282 0.90662267 0.90984775 0.91472287\n",
      " 0.9160729  0.91487287 0.91127278]\n"
     ]
    }
   ],
   "source": [
    "from sklearn.metrics import accuracy_score\n",
    "from sklearn.model_selection import cross_val_score\n",
    "st = StratifiedKFold(n_splits=15,shuffle=True)\n",
    "scores = cross_val_score(model,X_train,Y_train,cv=st,scoring='recall')\n",
    "print scores"
   ]
  },
  {
   "cell_type": "code",
   "execution_count": 20,
   "metadata": {},
   "outputs": [],
   "source": [
    "from sklearn.metrics import accuracy_score,confusion_matrix,f1_score,precision_recall_curve,precision_score,recall_score\n",
    "def metrics(actual, predicted):\n",
    "    \n",
    "    print ' confusion matrics \\n',confusion_matrix(actual, predicted)\n",
    "    print ' precision \\n ', precision_score(y_pred=predicted, y_true=actual)\n",
    "    print ' recall \\n',recall_score(y_pred=predicted, y_true=actual)\n",
    "    print ' f1_score \\n',f1_score(y_pred=predicted, y_true=actual)\n",
    "    print 'acuuracy \\n ',accuracy_score(y_pred=predicted, y_true=actual)"
   ]
  },
  {
   "cell_type": "code",
   "execution_count": 21,
   "metadata": {},
   "outputs": [],
   "source": [
    "result = model.predict(X_train)"
   ]
  },
  {
   "cell_type": "code",
   "execution_count": 22,
   "metadata": {},
   "outputs": [
    {
     "name": "stdout",
     "output_type": "stream",
     "text": [
      " confusion matrics \n",
      "[[199117    883]\n",
      " [  4194 195806]]\n",
      " precision \n",
      "  0.995510679295741\n",
      " recall \n",
      "0.97903\n",
      " f1_score \n",
      "0.9872015609205196\n",
      "acuuracy \n",
      "  0.9873075\n"
     ]
    }
   ],
   "source": [
    "metrics(Y_train,result)"
   ]
  },
  {
   "cell_type": "code",
   "execution_count": 23,
   "metadata": {},
   "outputs": [
    {
     "name": "stdout",
     "output_type": "stream",
     "text": [
      " confusion matrics \n",
      "[[48377  1623]\n",
      " [ 4264 45736]]\n",
      " precision \n",
      "  0.9657298507147533\n",
      " recall \n",
      "0.91472\n",
      " f1_score \n",
      "0.9395330683347198\n",
      "acuuracy \n",
      "  0.94113\n"
     ]
    }
   ],
   "source": [
    "result = model.predict(X_val)\n",
    "metrics(Y_val, result)"
   ]
  },
  {
   "cell_type": "code",
   "execution_count": 24,
   "metadata": {},
   "outputs": [
    {
     "data": {
      "text/html": [
       "<div>\n",
       "<style scoped>\n",
       "    .dataframe tbody tr th:only-of-type {\n",
       "        vertical-align: middle;\n",
       "    }\n",
       "\n",
       "    .dataframe tbody tr th {\n",
       "        vertical-align: top;\n",
       "    }\n",
       "\n",
       "    .dataframe thead th {\n",
       "        text-align: right;\n",
       "    }\n",
       "</style>\n",
       "<table border=\"1\" class=\"dataframe\">\n",
       "  <thead>\n",
       "    <tr style=\"text-align: right;\">\n",
       "      <th></th>\n",
       "      <th>id</th>\n",
       "      <th>num1</th>\n",
       "      <th>num2</th>\n",
       "      <th>num3</th>\n",
       "      <th>num4</th>\n",
       "      <th>num5</th>\n",
       "      <th>num6</th>\n",
       "      <th>num7</th>\n",
       "      <th>num8</th>\n",
       "      <th>num9</th>\n",
       "      <th>...</th>\n",
       "      <th>cat5</th>\n",
       "      <th>cat6</th>\n",
       "      <th>cat7</th>\n",
       "      <th>cat8</th>\n",
       "      <th>cat9</th>\n",
       "      <th>cat10</th>\n",
       "      <th>cat11</th>\n",
       "      <th>cat12</th>\n",
       "      <th>cat13</th>\n",
       "      <th>cat14</th>\n",
       "    </tr>\n",
       "  </thead>\n",
       "  <tbody>\n",
       "    <tr>\n",
       "      <th>0</th>\n",
       "      <td>0</td>\n",
       "      <td>0</td>\n",
       "      <td>8</td>\n",
       "      <td>0</td>\n",
       "      <td>1</td>\n",
       "      <td>0</td>\n",
       "      <td>0</td>\n",
       "      <td>0</td>\n",
       "      <td>0</td>\n",
       "      <td>0</td>\n",
       "      <td>...</td>\n",
       "      <td>1.0</td>\n",
       "      <td>NaN</td>\n",
       "      <td>0</td>\n",
       "      <td>NaN</td>\n",
       "      <td>1</td>\n",
       "      <td>1.0</td>\n",
       "      <td>1</td>\n",
       "      <td>2.0</td>\n",
       "      <td>1</td>\n",
       "      <td>65</td>\n",
       "    </tr>\n",
       "    <tr>\n",
       "      <th>1</th>\n",
       "      <td>1</td>\n",
       "      <td>4</td>\n",
       "      <td>5</td>\n",
       "      <td>0</td>\n",
       "      <td>0</td>\n",
       "      <td>0</td>\n",
       "      <td>1</td>\n",
       "      <td>0</td>\n",
       "      <td>0</td>\n",
       "      <td>0</td>\n",
       "      <td>...</td>\n",
       "      <td>1.0</td>\n",
       "      <td>NaN</td>\n",
       "      <td>0</td>\n",
       "      <td>0.0</td>\n",
       "      <td>11</td>\n",
       "      <td>1.0</td>\n",
       "      <td>1</td>\n",
       "      <td>0.0</td>\n",
       "      <td>1</td>\n",
       "      <td>103</td>\n",
       "    </tr>\n",
       "    <tr>\n",
       "      <th>2</th>\n",
       "      <td>2</td>\n",
       "      <td>5</td>\n",
       "      <td>3</td>\n",
       "      <td>0</td>\n",
       "      <td>0</td>\n",
       "      <td>0</td>\n",
       "      <td>1</td>\n",
       "      <td>0</td>\n",
       "      <td>0</td>\n",
       "      <td>0</td>\n",
       "      <td>...</td>\n",
       "      <td>1.0</td>\n",
       "      <td>NaN</td>\n",
       "      <td>0</td>\n",
       "      <td>NaN</td>\n",
       "      <td>14</td>\n",
       "      <td>1.0</td>\n",
       "      <td>1</td>\n",
       "      <td>2.0</td>\n",
       "      <td>1</td>\n",
       "      <td>29</td>\n",
       "    </tr>\n",
       "    <tr>\n",
       "      <th>3</th>\n",
       "      <td>3</td>\n",
       "      <td>0</td>\n",
       "      <td>6</td>\n",
       "      <td>1</td>\n",
       "      <td>0</td>\n",
       "      <td>0</td>\n",
       "      <td>0</td>\n",
       "      <td>0</td>\n",
       "      <td>0</td>\n",
       "      <td>0</td>\n",
       "      <td>...</td>\n",
       "      <td>1.0</td>\n",
       "      <td>NaN</td>\n",
       "      <td>0</td>\n",
       "      <td>NaN</td>\n",
       "      <td>1</td>\n",
       "      <td>1.0</td>\n",
       "      <td>1</td>\n",
       "      <td>2.0</td>\n",
       "      <td>1</td>\n",
       "      <td>40</td>\n",
       "    </tr>\n",
       "    <tr>\n",
       "      <th>4</th>\n",
       "      <td>4</td>\n",
       "      <td>5</td>\n",
       "      <td>7</td>\n",
       "      <td>0</td>\n",
       "      <td>0</td>\n",
       "      <td>0</td>\n",
       "      <td>1</td>\n",
       "      <td>0</td>\n",
       "      <td>0</td>\n",
       "      <td>0</td>\n",
       "      <td>...</td>\n",
       "      <td>1.0</td>\n",
       "      <td>NaN</td>\n",
       "      <td>0</td>\n",
       "      <td>NaN</td>\n",
       "      <td>11</td>\n",
       "      <td>1.0</td>\n",
       "      <td>1</td>\n",
       "      <td>2.0</td>\n",
       "      <td>1</td>\n",
       "      <td>101</td>\n",
       "    </tr>\n",
       "  </tbody>\n",
       "</table>\n",
       "<p>5 rows × 57 columns</p>\n",
       "</div>"
      ],
      "text/plain": [
       "   id  num1  num2  num3  num4  num5  num6  num7  num8  num9  ...    cat5  \\\n",
       "0   0     0     8     0     1     0     0     0     0     0  ...     1.0   \n",
       "1   1     4     5     0     0     0     1     0     0     0  ...     1.0   \n",
       "2   2     5     3     0     0     0     1     0     0     0  ...     1.0   \n",
       "3   3     0     6     1     0     0     0     0     0     0  ...     1.0   \n",
       "4   4     5     7     0     0     0     1     0     0     0  ...     1.0   \n",
       "\n",
       "   cat6  cat7  cat8  cat9  cat10  cat11  cat12  cat13  cat14  \n",
       "0   NaN     0   NaN     1    1.0      1    2.0      1     65  \n",
       "1   NaN     0   0.0    11    1.0      1    0.0      1    103  \n",
       "2   NaN     0   NaN    14    1.0      1    2.0      1     29  \n",
       "3   NaN     0   NaN     1    1.0      1    2.0      1     40  \n",
       "4   NaN     0   NaN    11    1.0      1    2.0      1    101  \n",
       "\n",
       "[5 rows x 57 columns]"
      ]
     },
     "execution_count": 24,
     "metadata": {},
     "output_type": "execute_result"
    }
   ],
   "source": [
    "test_data = read_data('data_test.csv')\n",
    "test_data.head()"
   ]
  },
  {
   "cell_type": "code",
   "execution_count": 25,
   "metadata": {},
   "outputs": [
    {
     "data": {
      "text/html": [
       "<div>\n",
       "<style scoped>\n",
       "    .dataframe tbody tr th:only-of-type {\n",
       "        vertical-align: middle;\n",
       "    }\n",
       "\n",
       "    .dataframe tbody tr th {\n",
       "        vertical-align: top;\n",
       "    }\n",
       "\n",
       "    .dataframe thead th {\n",
       "        text-align: right;\n",
       "    }\n",
       "</style>\n",
       "<table border=\"1\" class=\"dataframe\">\n",
       "  <thead>\n",
       "    <tr style=\"text-align: right;\">\n",
       "      <th></th>\n",
       "      <th>der1</th>\n",
       "      <th>der2</th>\n",
       "      <th>der3</th>\n",
       "      <th>der4</th>\n",
       "      <th>der5</th>\n",
       "      <th>der6</th>\n",
       "      <th>der7</th>\n",
       "      <th>der8</th>\n",
       "      <th>der9</th>\n",
       "      <th>der10</th>\n",
       "      <th>...</th>\n",
       "      <th>cat5</th>\n",
       "      <th>cat6</th>\n",
       "      <th>cat7</th>\n",
       "      <th>cat8</th>\n",
       "      <th>cat9</th>\n",
       "      <th>cat10</th>\n",
       "      <th>cat11</th>\n",
       "      <th>cat12</th>\n",
       "      <th>cat13</th>\n",
       "      <th>cat14</th>\n",
       "    </tr>\n",
       "  </thead>\n",
       "  <tbody>\n",
       "    <tr>\n",
       "      <th>0</th>\n",
       "      <td>0.1</td>\n",
       "      <td>0.8</td>\n",
       "      <td>0.6</td>\n",
       "      <td>1</td>\n",
       "      <td>1</td>\n",
       "      <td>6</td>\n",
       "      <td>3</td>\n",
       "      <td>6</td>\n",
       "      <td>2</td>\n",
       "      <td>9</td>\n",
       "      <td>...</td>\n",
       "      <td>1.0</td>\n",
       "      <td>NaN</td>\n",
       "      <td>0</td>\n",
       "      <td>NaN</td>\n",
       "      <td>1</td>\n",
       "      <td>1.0</td>\n",
       "      <td>1</td>\n",
       "      <td>2.0</td>\n",
       "      <td>1</td>\n",
       "      <td>65</td>\n",
       "    </tr>\n",
       "    <tr>\n",
       "      <th>1</th>\n",
       "      <td>0.4</td>\n",
       "      <td>0.5</td>\n",
       "      <td>0.4</td>\n",
       "      <td>3</td>\n",
       "      <td>3</td>\n",
       "      <td>8</td>\n",
       "      <td>4</td>\n",
       "      <td>10</td>\n",
       "      <td>2</td>\n",
       "      <td>7</td>\n",
       "      <td>...</td>\n",
       "      <td>1.0</td>\n",
       "      <td>NaN</td>\n",
       "      <td>0</td>\n",
       "      <td>0.0</td>\n",
       "      <td>11</td>\n",
       "      <td>1.0</td>\n",
       "      <td>1</td>\n",
       "      <td>0.0</td>\n",
       "      <td>1</td>\n",
       "      <td>103</td>\n",
       "    </tr>\n",
       "    <tr>\n",
       "      <th>2</th>\n",
       "      <td>0.6</td>\n",
       "      <td>0.6</td>\n",
       "      <td>0.6</td>\n",
       "      <td>2</td>\n",
       "      <td>3</td>\n",
       "      <td>7</td>\n",
       "      <td>4</td>\n",
       "      <td>6</td>\n",
       "      <td>3</td>\n",
       "      <td>12</td>\n",
       "      <td>...</td>\n",
       "      <td>1.0</td>\n",
       "      <td>NaN</td>\n",
       "      <td>0</td>\n",
       "      <td>NaN</td>\n",
       "      <td>14</td>\n",
       "      <td>1.0</td>\n",
       "      <td>1</td>\n",
       "      <td>2.0</td>\n",
       "      <td>1</td>\n",
       "      <td>29</td>\n",
       "    </tr>\n",
       "    <tr>\n",
       "      <th>3</th>\n",
       "      <td>0.1</td>\n",
       "      <td>0.5</td>\n",
       "      <td>0.5</td>\n",
       "      <td>2</td>\n",
       "      <td>1</td>\n",
       "      <td>7</td>\n",
       "      <td>3</td>\n",
       "      <td>12</td>\n",
       "      <td>1</td>\n",
       "      <td>13</td>\n",
       "      <td>...</td>\n",
       "      <td>1.0</td>\n",
       "      <td>NaN</td>\n",
       "      <td>0</td>\n",
       "      <td>NaN</td>\n",
       "      <td>1</td>\n",
       "      <td>1.0</td>\n",
       "      <td>1</td>\n",
       "      <td>2.0</td>\n",
       "      <td>1</td>\n",
       "      <td>40</td>\n",
       "    </tr>\n",
       "    <tr>\n",
       "      <th>4</th>\n",
       "      <td>0.9</td>\n",
       "      <td>0.6</td>\n",
       "      <td>0.8</td>\n",
       "      <td>3</td>\n",
       "      <td>4</td>\n",
       "      <td>7</td>\n",
       "      <td>1</td>\n",
       "      <td>10</td>\n",
       "      <td>4</td>\n",
       "      <td>12</td>\n",
       "      <td>...</td>\n",
       "      <td>1.0</td>\n",
       "      <td>NaN</td>\n",
       "      <td>0</td>\n",
       "      <td>NaN</td>\n",
       "      <td>11</td>\n",
       "      <td>1.0</td>\n",
       "      <td>1</td>\n",
       "      <td>2.0</td>\n",
       "      <td>1</td>\n",
       "      <td>101</td>\n",
       "    </tr>\n",
       "  </tbody>\n",
       "</table>\n",
       "<p>5 rows × 33 columns</p>\n",
       "</div>"
      ],
      "text/plain": [
       "   der1  der2  der3  der4  der5  der6  der7  der8  der9  der10  ...    cat5  \\\n",
       "0   0.1   0.8   0.6     1     1     6     3     6     2      9  ...     1.0   \n",
       "1   0.4   0.5   0.4     3     3     8     4    10     2      7  ...     1.0   \n",
       "2   0.6   0.6   0.6     2     3     7     4     6     3     12  ...     1.0   \n",
       "3   0.1   0.5   0.5     2     1     7     3    12     1     13  ...     1.0   \n",
       "4   0.9   0.6   0.8     3     4     7     1    10     4     12  ...     1.0   \n",
       "\n",
       "   cat6  cat7  cat8  cat9  cat10  cat11  cat12  cat13  cat14  \n",
       "0   NaN     0   NaN     1    1.0      1    2.0      1     65  \n",
       "1   NaN     0   0.0    11    1.0      1    0.0      1    103  \n",
       "2   NaN     0   NaN    14    1.0      1    2.0      1     29  \n",
       "3   NaN     0   NaN     1    1.0      1    2.0      1     40  \n",
       "4   NaN     0   NaN    11    1.0      1    2.0      1    101  \n",
       "\n",
       "[5 rows x 33 columns]"
      ]
     },
     "execution_count": 25,
     "metadata": {},
     "output_type": "execute_result"
    }
   ],
   "source": [
    "ids = test_data.id\n",
    "test_data = clean_data(test_data)\n",
    "test_data.head()"
   ]
  },
  {
   "cell_type": "code",
   "execution_count": 26,
   "metadata": {},
   "outputs": [],
   "source": [
    "test_data = test_data.fillna(na_val)\n",
    "result = model.predict(test_data)"
   ]
  },
  {
   "cell_type": "code",
   "execution_count": 27,
   "metadata": {},
   "outputs": [],
   "source": [
    "result_frame = {'id':ids,\n",
    "               'target':result\n",
    "               }\n",
    "result_frame = pd.DataFrame(result_frame)"
   ]
  },
  {
   "cell_type": "code",
   "execution_count": 28,
   "metadata": {},
   "outputs": [],
   "source": [
    "result_frame.to_csv('result.csv')"
   ]
  },
  {
   "cell_type": "code",
   "execution_count": 29,
   "metadata": {},
   "outputs": [],
   "source": [
    "# import pickle\n",
    "# filename = 'model.sav'\n",
    "# pickle.dump(model, open(filename, 'wb'))"
   ]
  },
  {
   "cell_type": "code",
   "execution_count": null,
   "metadata": {},
   "outputs": [],
   "source": []
  }
 ],
 "metadata": {
  "kernelspec": {
   "display_name": "Python 2",
   "language": "python",
   "name": "python2"
  },
  "language_info": {
   "codemirror_mode": {
    "name": "ipython",
    "version": 2
   },
   "file_extension": ".py",
   "mimetype": "text/x-python",
   "name": "python",
   "nbconvert_exporter": "python",
   "pygments_lexer": "ipython2",
   "version": "2.7.10"
  }
 },
 "nbformat": 4,
 "nbformat_minor": 2
}
